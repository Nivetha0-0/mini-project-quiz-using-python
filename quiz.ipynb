{
 "cells": [
  {
   "cell_type": "code",
   "execution_count": 7,
   "metadata": {},
   "outputs": [
    {
     "name": "stdout",
     "output_type": "stream",
     "text": [
      "WELCOME TO QUIZ\n",
      "Enter your name:Nivi\n",
      "Q1:Who won the t20I 2024?:india\n",
      "Correct!\n",
      "Q2:Who is the only person to have won Noble prize in both physics and chemistry?:marie    curie\n",
      "Correct!\n",
      "Q3:Who discovered pasteurisation method?:louis pasteur\n",
      "Correct!\n",
      "Player name: Nivi\n",
      "Score: 3\n",
      "Percetage of correct answers given: 100.0 %\n"
     ]
    }
   ],
   "source": [
    "print(\"WELCOME TO QUIZ\")\n",
    "name=input(\"Enter your name:\")\n",
    "score=0\n",
    "q1=input(\"Q1:Who won the t20I 2024?:\")\n",
    "if (q1.lower()==\"india\"):\n",
    "    print(\"Correct!\")\n",
    "    score+=1\n",
    "else:\n",
    "    print(\"Incorrect\")\n",
    "    \n",
    "q2=input(\"Q2:Who is the only person to have won Noble prize in both physics and chemistry?:\")\n",
    "rem=q2.lower()\n",
    "if (rem.replace(\" \",\"\")==\"mariecurie\"):\n",
    "    print(\"Correct!\")\n",
    "    score+=1\n",
    "else:\n",
    "    print(\"Incorrect\")\n",
    "    \n",
    "q3=input(\"Q3:Who discovered pasteurisation method?:\")\n",
    "rem1=q3.lower()\n",
    "if (rem1.replace(\" \",\"\")==\"louispasteur\"):\n",
    "    print(\"Correct!\")\n",
    "    score+=1\n",
    "else:\n",
    "    print(\"Incorrect\")\n",
    "    \n",
    "print(\"Player name:\",name)    \n",
    "print(\"Score:\",score)\n",
    "print(\"Percetage of correct answers given:\",((score/3)*100),\"%\")"
   ]
  },
  {
   "cell_type": "code",
   "execution_count": null,
   "metadata": {},
   "outputs": [],
   "source": []
  }
 ],
 "metadata": {
  "kernelspec": {
   "display_name": "Python 3",
   "language": "python",
   "name": "python3"
  },
  "language_info": {
   "codemirror_mode": {
    "name": "ipython",
    "version": 3
   },
   "file_extension": ".py",
   "mimetype": "text/x-python",
   "name": "python",
   "nbconvert_exporter": "python",
   "pygments_lexer": "ipython3",
   "version": "3.8.5"
  }
 },
 "nbformat": 4,
 "nbformat_minor": 4
}
